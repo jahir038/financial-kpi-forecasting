{
 "cells": [
  {
   "cell_type": "code",
   "execution_count": 49,
   "id": "6560d434",
   "metadata": {},
   "outputs": [
    {
     "name": "stdout",
     "output_type": "stream",
     "text": [
      "                    MEP                            Accounts      FY22 Q1  \\\n",
      "0  GSS Bangalore, IND_1                   Direct Labor Cost   4166343.78   \n",
      "1  GSS Bangalore, IND_1              IDL/Salaries and Wages   7367939.94   \n",
      "2  GSS Bangalore, IND_1                          KPI: COP %        12.66   \n",
      "3  GSS Bangalore, IND_1  KPI: Controllable Operating Profit  31533792.48   \n",
      "4  GSS Bangalore, IND_1                           KPI: DL %        16.42   \n",
      "\n",
      "       FY22 Q2      FY22 Q3      FY22 Q4      FY23 Q1      FY23 Q2  \\\n",
      "0  12994591.17  13081959.22  13910275.00  11348940.44  14449052.56   \n",
      "1   2330000.02   8437150.69   2653006.12   5186800.04   2302528.99   \n",
      "2        12.04        12.55        21.19        13.49         5.45   \n",
      "3  32114752.59  11314923.35  41088874.87  36605482.98  11738280.77   \n",
      "4        16.96        14.36         9.43        19.40        10.70   \n",
      "\n",
      "      FY23 Q3      FY23 Q4      FY24 Q1      FY24 Q2     FY24 Q3      FY24 Q4  \\\n",
      "0  7642529.95   5155482.50   9334056.42   8783393.32  5945475.78  11696138.89   \n",
      "1  5678394.54   1493057.23   2145066.80   4319647.54  2191677.87   1659342.84   \n",
      "2       20.08         8.81        24.73        18.43       24.02        21.93   \n",
      "3  5601462.38  48582378.41  49669277.42  37437620.18  7549830.18  12300551.91   \n",
      "4       12.41         7.11         9.22         8.29       10.04        18.06   \n",
      "\n",
      "       FY25 Q1      FY25 Q2      FY25 Q3      FY25 Q4  \n",
      "0   7634796.05   2801577.55  11212577.54  12585467.60  \n",
      "1   1804557.13   1832875.90   9992780.22   8469846.19  \n",
      "2        19.93        15.81        23.15        12.97  \n",
      "3  38968501.52  25829945.77  28656870.25  18500181.31  \n",
      "4         7.11        18.12        12.56        15.22  \n"
     ]
    }
   ],
   "source": [
    "from data_loader import load_and_preprocess_data_sql\n",
    "\n",
    "server = \"localhost\"\n",
    "database = \"finance_metric\"\n",
    "table_name = \"KPI_Finance_Data\"\n",
    "\n",
    "df = load_and_preprocess_data_sql(server, database, table_name)\n",
    "print(df.head())\n"
   ]
  },
  {
   "cell_type": "code",
   "execution_count": 61,
   "id": "a94c15b1",
   "metadata": {},
   "outputs": [
    {
     "data": {
      "text/plain": [
       "MEP         0\n",
       "Accounts    0\n",
       "FY22 Q1     0\n",
       "FY22 Q2     0\n",
       "FY22 Q3     0\n",
       "FY22 Q4     0\n",
       "FY23 Q1     0\n",
       "FY23 Q2     0\n",
       "FY23 Q3     0\n",
       "FY23 Q4     0\n",
       "FY24 Q1     0\n",
       "FY24 Q2     0\n",
       "FY24 Q3     0\n",
       "FY24 Q4     0\n",
       "FY25 Q1     0\n",
       "FY25 Q2     0\n",
       "FY25 Q3     0\n",
       "FY25 Q4     0\n",
       "dtype: int64"
      ]
     },
     "execution_count": 61,
     "metadata": {},
     "output_type": "execute_result"
    }
   ],
   "source": [
    "df.isna().sum().sort_values(ascending=False)\n"
   ]
  },
  {
   "cell_type": "code",
   "execution_count": 62,
   "id": "cb4141d6",
   "metadata": {},
   "outputs": [
    {
     "ename": "NameError",
     "evalue": "name 'forecast_quarters' is not defined",
     "output_type": "error",
     "traceback": [
      "\u001b[31m---------------------------------------------------------------------------\u001b[39m",
      "\u001b[31mNameError\u001b[39m                                 Traceback (most recent call last)",
      "\u001b[36mCell\u001b[39m\u001b[36m \u001b[39m\u001b[32mIn[62]\u001b[39m\u001b[32m, line 1\u001b[39m\n\u001b[32m----> \u001b[39m\u001b[32m1\u001b[39m \u001b[38;5;28mprint\u001b[39m(\u001b[33m\"\u001b[39m\u001b[33mForecasting for quarters:\u001b[39m\u001b[33m\"\u001b[39m, \u001b[43mforecast_quarters\u001b[49m)\n",
      "\u001b[31mNameError\u001b[39m: name 'forecast_quarters' is not defined"
     ]
    }
   ],
   "source": [
    "print(\"Forecasting for quarters:\", forecast_quarters)\n"
   ]
  },
  {
   "cell_type": "code",
   "execution_count": 50,
   "id": "de1de12d",
   "metadata": {},
   "outputs": [],
   "source": [
    "from data_preprocessing import (\n",
    "    preprocess_for_rf,\n",
    "    preprocess_for_sarima,\n",
    "    preprocess_for_correlation_model,\n",
    ")\n",
    "\n",
    "\n",
    "X_rf, y_rf_dict, meta_rf = preprocess_for_rf(df)\n",
    "df_sarima = preprocess_for_sarima(df)\n",
    "df_corr = preprocess_for_correlation_model(df)\n",
    "\n",
    "\n",
    "\n"
   ]
  },
  {
   "cell_type": "code",
   "execution_count": 6,
   "id": "cd15e026",
   "metadata": {},
   "outputs": [
    {
     "data": {
      "text/html": [
       "<div>\n",
       "<style scoped>\n",
       "    .dataframe tbody tr th:only-of-type {\n",
       "        vertical-align: middle;\n",
       "    }\n",
       "\n",
       "    .dataframe tbody tr th {\n",
       "        vertical-align: top;\n",
       "    }\n",
       "\n",
       "    .dataframe thead th {\n",
       "        text-align: right;\n",
       "    }\n",
       "</style>\n",
       "<table border=\"1\" class=\"dataframe\">\n",
       "  <thead>\n",
       "    <tr style=\"text-align: right;\">\n",
       "      <th></th>\n",
       "      <th>MEP</th>\n",
       "      <th>Accounts</th>\n",
       "      <th>Quarter</th>\n",
       "      <th>Value</th>\n",
       "    </tr>\n",
       "  </thead>\n",
       "  <tbody>\n",
       "    <tr>\n",
       "      <th>0</th>\n",
       "      <td>GSS Bangalore, IND_1</td>\n",
       "      <td>Direct Labor Cost</td>\n",
       "      <td>FY22 Q1</td>\n",
       "      <td>4166343.78</td>\n",
       "    </tr>\n",
       "    <tr>\n",
       "      <th>1</th>\n",
       "      <td>GSS Bangalore, IND_1</td>\n",
       "      <td>IDL/Salaries and Wages</td>\n",
       "      <td>FY22 Q1</td>\n",
       "      <td>7367939.94</td>\n",
       "    </tr>\n",
       "    <tr>\n",
       "      <th>2</th>\n",
       "      <td>GSS Bangalore, IND_1</td>\n",
       "      <td>KPI: COP %</td>\n",
       "      <td>FY22 Q1</td>\n",
       "      <td>12.66</td>\n",
       "    </tr>\n",
       "    <tr>\n",
       "      <th>3</th>\n",
       "      <td>GSS Bangalore, IND_1</td>\n",
       "      <td>KPI: Controllable Operating Profit</td>\n",
       "      <td>FY22 Q1</td>\n",
       "      <td>31533792.48</td>\n",
       "    </tr>\n",
       "    <tr>\n",
       "      <th>4</th>\n",
       "      <td>GSS Bangalore, IND_1</td>\n",
       "      <td>KPI: DL %</td>\n",
       "      <td>FY22 Q1</td>\n",
       "      <td>16.42</td>\n",
       "    </tr>\n",
       "  </tbody>\n",
       "</table>\n",
       "</div>"
      ],
      "text/plain": [
       "                    MEP                            Accounts  Quarter  \\\n",
       "0  GSS Bangalore, IND_1                   Direct Labor Cost  FY22 Q1   \n",
       "1  GSS Bangalore, IND_1              IDL/Salaries and Wages  FY22 Q1   \n",
       "2  GSS Bangalore, IND_1                          KPI: COP %  FY22 Q1   \n",
       "3  GSS Bangalore, IND_1  KPI: Controllable Operating Profit  FY22 Q1   \n",
       "4  GSS Bangalore, IND_1                           KPI: DL %  FY22 Q1   \n",
       "\n",
       "         Value  \n",
       "0   4166343.78  \n",
       "1   7367939.94  \n",
       "2        12.66  \n",
       "3  31533792.48  \n",
       "4        16.42  "
      ]
     },
     "execution_count": 6,
     "metadata": {},
     "output_type": "execute_result"
    }
   ],
   "source": [
    "df_sarima.head(5)"
   ]
  },
  {
   "cell_type": "code",
   "execution_count": 7,
   "id": "bb68275f",
   "metadata": {},
   "outputs": [
    {
     "data": {
      "text/html": [
       "<div>\n",
       "<style scoped>\n",
       "    .dataframe tbody tr th:only-of-type {\n",
       "        vertical-align: middle;\n",
       "    }\n",
       "\n",
       "    .dataframe tbody tr th {\n",
       "        vertical-align: top;\n",
       "    }\n",
       "\n",
       "    .dataframe thead th {\n",
       "        text-align: right;\n",
       "    }\n",
       "</style>\n",
       "<table border=\"1\" class=\"dataframe\">\n",
       "  <thead>\n",
       "    <tr style=\"text-align: right;\">\n",
       "      <th>Accounts</th>\n",
       "      <th>MEP</th>\n",
       "      <th>Quarter</th>\n",
       "      <th>Direct Labor Cost</th>\n",
       "      <th>IDL/Salaries and Wages</th>\n",
       "      <th>KPI: COP %</th>\n",
       "      <th>KPI: Controllable Operating Profit</th>\n",
       "      <th>KPI: DL %</th>\n",
       "      <th>DL_HC</th>\n",
       "      <th>KPI: IDL %</th>\n",
       "      <th>IDL_HC</th>\n",
       "      <th>...</th>\n",
       "      <th>KPI: MM %</th>\n",
       "      <th>KPI: Material Loss %</th>\n",
       "      <th>KPI: Std VAM %</th>\n",
       "      <th>KPI: Std VAM from Ops</th>\n",
       "      <th>KPI: Std VAM from Ops %</th>\n",
       "      <th>KPI: Total Sales from Ops</th>\n",
       "      <th>Material Loss</th>\n",
       "      <th>Material Margin</th>\n",
       "      <th>Std VAM</th>\n",
       "      <th>Total Sales</th>\n",
       "    </tr>\n",
       "  </thead>\n",
       "  <tbody>\n",
       "    <tr>\n",
       "      <th>0</th>\n",
       "      <td>GSS Bangalore, IND_1</td>\n",
       "      <td>FY22 Q1</td>\n",
       "      <td>4166343.78</td>\n",
       "      <td>7367939.94</td>\n",
       "      <td>12.66</td>\n",
       "      <td>31533792.48</td>\n",
       "      <td>16.42</td>\n",
       "      <td>1167.0</td>\n",
       "      <td>10.21</td>\n",
       "      <td>58.0</td>\n",
       "      <td>...</td>\n",
       "      <td>10.51</td>\n",
       "      <td>8.81</td>\n",
       "      <td>33.12</td>\n",
       "      <td>75481818.22</td>\n",
       "      <td>44.08</td>\n",
       "      <td>1.394849e+08</td>\n",
       "      <td>1452583.73</td>\n",
       "      <td>85699307.27</td>\n",
       "      <td>30627167.36</td>\n",
       "      <td>2.985897e+08</td>\n",
       "    </tr>\n",
       "    <tr>\n",
       "      <th>1</th>\n",
       "      <td>GSS Bangalore, IND_1</td>\n",
       "      <td>FY22 Q2</td>\n",
       "      <td>12994591.17</td>\n",
       "      <td>2330000.02</td>\n",
       "      <td>12.04</td>\n",
       "      <td>32114752.59</td>\n",
       "      <td>16.96</td>\n",
       "      <td>1179.0</td>\n",
       "      <td>4.18</td>\n",
       "      <td>262.0</td>\n",
       "      <td>...</td>\n",
       "      <td>38.32</td>\n",
       "      <td>3.22</td>\n",
       "      <td>24.66</td>\n",
       "      <td>79418805.10</td>\n",
       "      <td>25.58</td>\n",
       "      <td>1.647199e+08</td>\n",
       "      <td>1263300.12</td>\n",
       "      <td>39780600.53</td>\n",
       "      <td>31333433.40</td>\n",
       "      <td>2.800623e+08</td>\n",
       "    </tr>\n",
       "    <tr>\n",
       "      <th>2</th>\n",
       "      <td>GSS Bangalore, IND_1</td>\n",
       "      <td>FY22 Q3</td>\n",
       "      <td>13081959.22</td>\n",
       "      <td>8437150.69</td>\n",
       "      <td>12.55</td>\n",
       "      <td>11314923.35</td>\n",
       "      <td>14.36</td>\n",
       "      <td>668.0</td>\n",
       "      <td>9.32</td>\n",
       "      <td>114.0</td>\n",
       "      <td>...</td>\n",
       "      <td>38.21</td>\n",
       "      <td>3.16</td>\n",
       "      <td>30.65</td>\n",
       "      <td>16004515.12</td>\n",
       "      <td>26.99</td>\n",
       "      <td>3.241474e+07</td>\n",
       "      <td>4319942.33</td>\n",
       "      <td>52271485.25</td>\n",
       "      <td>16846515.39</td>\n",
       "      <td>1.713475e+08</td>\n",
       "    </tr>\n",
       "    <tr>\n",
       "      <th>3</th>\n",
       "      <td>GSS Bangalore, IND_1</td>\n",
       "      <td>FY22 Q4</td>\n",
       "      <td>13910275.00</td>\n",
       "      <td>2653006.12</td>\n",
       "      <td>21.19</td>\n",
       "      <td>41088874.87</td>\n",
       "      <td>9.43</td>\n",
       "      <td>1064.0</td>\n",
       "      <td>13.03</td>\n",
       "      <td>33.0</td>\n",
       "      <td>...</td>\n",
       "      <td>25.13</td>\n",
       "      <td>3.37</td>\n",
       "      <td>46.82</td>\n",
       "      <td>36009582.49</td>\n",
       "      <td>36.83</td>\n",
       "      <td>1.637716e+08</td>\n",
       "      <td>4411551.63</td>\n",
       "      <td>57435290.22</td>\n",
       "      <td>20868731.41</td>\n",
       "      <td>2.048237e+08</td>\n",
       "    </tr>\n",
       "    <tr>\n",
       "      <th>4</th>\n",
       "      <td>GSS Bangalore, IND_1</td>\n",
       "      <td>FY23 Q1</td>\n",
       "      <td>11348940.44</td>\n",
       "      <td>5186800.04</td>\n",
       "      <td>13.49</td>\n",
       "      <td>36605482.98</td>\n",
       "      <td>19.40</td>\n",
       "      <td>291.0</td>\n",
       "      <td>10.80</td>\n",
       "      <td>369.0</td>\n",
       "      <td>...</td>\n",
       "      <td>23.27</td>\n",
       "      <td>6.15</td>\n",
       "      <td>42.60</td>\n",
       "      <td>27788041.34</td>\n",
       "      <td>32.27</td>\n",
       "      <td>9.845802e+07</td>\n",
       "      <td>3012753.64</td>\n",
       "      <td>66346662.17</td>\n",
       "      <td>87977851.85</td>\n",
       "      <td>2.950592e+08</td>\n",
       "    </tr>\n",
       "  </tbody>\n",
       "</table>\n",
       "<p>5 rows × 22 columns</p>\n",
       "</div>"
      ],
      "text/plain": [
       "Accounts                   MEP  Quarter  Direct Labor Cost  \\\n",
       "0         GSS Bangalore, IND_1  FY22 Q1         4166343.78   \n",
       "1         GSS Bangalore, IND_1  FY22 Q2        12994591.17   \n",
       "2         GSS Bangalore, IND_1  FY22 Q3        13081959.22   \n",
       "3         GSS Bangalore, IND_1  FY22 Q4        13910275.00   \n",
       "4         GSS Bangalore, IND_1  FY23 Q1        11348940.44   \n",
       "\n",
       "Accounts  IDL/Salaries and Wages  KPI: COP %  \\\n",
       "0                     7367939.94       12.66   \n",
       "1                     2330000.02       12.04   \n",
       "2                     8437150.69       12.55   \n",
       "3                     2653006.12       21.19   \n",
       "4                     5186800.04       13.49   \n",
       "\n",
       "Accounts  KPI: Controllable Operating Profit  KPI: DL %   DL_HC  KPI: IDL %  \\\n",
       "0                                31533792.48      16.42  1167.0       10.21   \n",
       "1                                32114752.59      16.96  1179.0        4.18   \n",
       "2                                11314923.35      14.36   668.0        9.32   \n",
       "3                                41088874.87       9.43  1064.0       13.03   \n",
       "4                                36605482.98      19.40   291.0       10.80   \n",
       "\n",
       "Accounts  IDL_HC  ...  KPI: MM %  KPI: Material Loss %  KPI: Std VAM %  \\\n",
       "0           58.0  ...      10.51                  8.81           33.12   \n",
       "1          262.0  ...      38.32                  3.22           24.66   \n",
       "2          114.0  ...      38.21                  3.16           30.65   \n",
       "3           33.0  ...      25.13                  3.37           46.82   \n",
       "4          369.0  ...      23.27                  6.15           42.60   \n",
       "\n",
       "Accounts  KPI: Std VAM from Ops  KPI: Std VAM from Ops %  \\\n",
       "0                   75481818.22                    44.08   \n",
       "1                   79418805.10                    25.58   \n",
       "2                   16004515.12                    26.99   \n",
       "3                   36009582.49                    36.83   \n",
       "4                   27788041.34                    32.27   \n",
       "\n",
       "Accounts  KPI: Total Sales from Ops  Material Loss  Material Margin  \\\n",
       "0                      1.394849e+08     1452583.73      85699307.27   \n",
       "1                      1.647199e+08     1263300.12      39780600.53   \n",
       "2                      3.241474e+07     4319942.33      52271485.25   \n",
       "3                      1.637716e+08     4411551.63      57435290.22   \n",
       "4                      9.845802e+07     3012753.64      66346662.17   \n",
       "\n",
       "Accounts      Std VAM   Total Sales  \n",
       "0         30627167.36  2.985897e+08  \n",
       "1         31333433.40  2.800623e+08  \n",
       "2         16846515.39  1.713475e+08  \n",
       "3         20868731.41  2.048237e+08  \n",
       "4         87977851.85  2.950592e+08  \n",
       "\n",
       "[5 rows x 22 columns]"
      ]
     },
     "execution_count": 7,
     "metadata": {},
     "output_type": "execute_result"
    }
   ],
   "source": [
    "df_corr.head(5)"
   ]
  },
  {
   "cell_type": "code",
   "execution_count": 8,
   "id": "c677434d",
   "metadata": {},
   "outputs": [
    {
     "data": {
      "text/plain": [
       "{'FY25 Q2': 0       2.801578e+06\n",
       " 1       1.832876e+06\n",
       " 2       1.581000e+01\n",
       " 3       2.582995e+07\n",
       " 4       1.812000e+01\n",
       "             ...     \n",
       " 1795    1.137995e+08\n",
       " 1796    6.195843e+06\n",
       " 1797    5.375067e+07\n",
       " 1798    8.205633e+07\n",
       " 1799    2.247128e+08\n",
       " Name: FY25 Q2, Length: 1800, dtype: float64,\n",
       " 'FY25 Q3': 0       1.121258e+07\n",
       " 1       9.992780e+06\n",
       " 2       2.315000e+01\n",
       " 3       2.865687e+07\n",
       " 4       1.256000e+01\n",
       "             ...     \n",
       " 1795    1.870822e+08\n",
       " 1796    7.276705e+06\n",
       " 1797    5.750302e+07\n",
       " 1798    7.022101e+07\n",
       " 1799    6.795070e+07\n",
       " Name: FY25 Q3, Length: 1800, dtype: float64,\n",
       " 'FY25 Q4': 0       1.258547e+07\n",
       " 1       8.469846e+06\n",
       " 2       1.297000e+01\n",
       " 3       1.850018e+07\n",
       " 4       1.522000e+01\n",
       "             ...     \n",
       " 1795    1.158015e+08\n",
       " 1796    7.679555e+06\n",
       " 1797    6.827284e+07\n",
       " 1798    6.212551e+07\n",
       " 1799    2.995171e+08\n",
       " Name: FY25 Q4, Length: 1800, dtype: float64}"
      ]
     },
     "execution_count": 8,
     "metadata": {},
     "output_type": "execute_result"
    }
   ],
   "source": [
    "y_rf_dict"
   ]
  },
  {
   "cell_type": "code",
   "execution_count": 51,
   "id": "da845aac",
   "metadata": {},
   "outputs": [],
   "source": [
    "# Notebook Cell 1\n",
    "\n",
    "from model_training import (\n",
    "    train_random_forest_model,\n",
    "    train_sarima_model,\n",
    "    train_correlation_model\n",
    ")\n",
    "\n",
    "from forecasting import (\n",
    "    predict_random_forest,\n",
    "    predict_sarima,\n",
    "    predict_correlation\n",
    ")\n"
   ]
  },
  {
   "cell_type": "code",
   "execution_count": 52,
   "id": "03dac1b3",
   "metadata": {},
   "outputs": [
    {
     "name": "stdout",
     "output_type": "stream",
     "text": [
      "✅ Trained RF models for 5400 (MEP, KPI, Quarter) combinations.\n"
     ]
    }
   ],
   "source": [
    "# Notebook Cell 2\n",
    "\n",
    "rf_models = train_random_forest_model(X_rf, y_rf_dict, meta_rf)\n",
    "\n",
    "print(f\"✅ Trained RF models for {len(rf_models)} (MEP, KPI, Quarter) combinations.\")\n"
   ]
  },
  {
   "cell_type": "code",
   "execution_count": 40,
   "id": "0985e343",
   "metadata": {},
   "outputs": [],
   "source": [
    "import importlib\n",
    "import forecasting\n",
    "\n",
    "importlib.reload(forecasting)\n",
    "\n",
    "from forecasting import predict_random_forest\n",
    "\n"
   ]
  },
  {
   "cell_type": "code",
   "execution_count": 53,
   "id": "8ea2d1ce",
   "metadata": {},
   "outputs": [
    {
     "data": {
      "text/html": [
       "<div>\n",
       "<style scoped>\n",
       "    .dataframe tbody tr th:only-of-type {\n",
       "        vertical-align: middle;\n",
       "    }\n",
       "\n",
       "    .dataframe tbody tr th {\n",
       "        vertical-align: top;\n",
       "    }\n",
       "\n",
       "    .dataframe thead th {\n",
       "        text-align: right;\n",
       "    }\n",
       "</style>\n",
       "<table border=\"1\" class=\"dataframe\">\n",
       "  <thead>\n",
       "    <tr style=\"text-align: right;\">\n",
       "      <th></th>\n",
       "    </tr>\n",
       "  </thead>\n",
       "  <tbody>\n",
       "  </tbody>\n",
       "</table>\n",
       "</div>"
      ],
      "text/plain": [
       "Empty DataFrame\n",
       "Columns: []\n",
       "Index: []"
      ]
     },
     "execution_count": 53,
     "metadata": {},
     "output_type": "execute_result"
    }
   ],
   "source": [
    "rf_results = predict_random_forest(X_rf, y_rf_dict, meta_rf, rf_models)\n",
    "rf_results.head(5)\n",
    "\n",
    "\n",
    "\n",
    "\n"
   ]
  },
  {
   "cell_type": "code",
   "execution_count": 56,
   "id": "d289566e",
   "metadata": {},
   "outputs": [
    {
     "name": "stdout",
     "output_type": "stream",
     "text": [
      "Empty DataFrame\n",
      "Columns: []\n",
      "Index: []\n"
     ]
    }
   ],
   "source": [
    "print(rf_results.head())"
   ]
  },
  {
   "cell_type": "code",
   "execution_count": 43,
   "id": "35499e0a",
   "metadata": {},
   "outputs": [
    {
     "name": "stdout",
     "output_type": "stream",
     "text": [
      "✅ SARIMA trained on 1800 MEP-KPI pairs.\n"
     ]
    }
   ],
   "source": [
    "# Notebook Cell 4\n",
    "\n",
    "sarima_models = train_sarima_model(df_sarima)\n",
    "print(f\"✅ SARIMA trained on {len(sarima_models)} MEP-KPI pairs.\")\n"
   ]
  },
  {
   "cell_type": "code",
   "execution_count": 58,
   "id": "07808ac5",
   "metadata": {},
   "outputs": [
    {
     "name": "stdout",
     "output_type": "stream",
     "text": [
      "['FY25 Q1', 'FY25 Q2', 'FY25 Q3', 'FY25 Q4']\n"
     ]
    }
   ],
   "source": [
    "print([col for col in df.columns if \"FY25\" in col])\n"
   ]
  },
  {
   "cell_type": "code",
   "execution_count": 59,
   "id": "3f7ad1f1",
   "metadata": {},
   "outputs": [
    {
     "name": "stdout",
     "output_type": "stream",
     "text": [
      "['FY22 Q1' 'FY22 Q2' 'FY22 Q3' 'FY22 Q4' 'FY23 Q1' 'FY23 Q2' 'FY23 Q3'\n",
      " 'FY23 Q4' 'FY24 Q1' 'FY24 Q2' 'FY24 Q3' 'FY24 Q4' 'FY25 Q1' 'FY25 Q2'\n",
      " 'FY25 Q3' 'FY25 Q4']\n"
     ]
    }
   ],
   "source": [
    "print(df_corr['Quarter'].unique())\n"
   ]
  },
  {
   "cell_type": "code",
   "execution_count": 60,
   "id": "38ecb55e",
   "metadata": {},
   "outputs": [
    {
     "ename": "NameError",
     "evalue": "name 'df_pivot' is not defined",
     "output_type": "error",
     "traceback": [
      "\u001b[31m---------------------------------------------------------------------------\u001b[39m",
      "\u001b[31mNameError\u001b[39m                                 Traceback (most recent call last)",
      "\u001b[36mCell\u001b[39m\u001b[36m \u001b[39m\u001b[32mIn[60]\u001b[39m\u001b[32m, line 2\u001b[39m\n\u001b[32m      1\u001b[39m \u001b[38;5;66;03m# Before dropping\u001b[39;00m\n\u001b[32m----> \u001b[39m\u001b[32m2\u001b[39m \u001b[38;5;28mprint\u001b[39m(\u001b[33m\"\u001b[39m\u001b[33mBefore dropping:\u001b[39m\u001b[33m\"\u001b[39m, \u001b[43mdf_pivot\u001b[49m[df_pivot[\u001b[33m\"\u001b[39m\u001b[33mQuarter\u001b[39m\u001b[33m\"\u001b[39m] == \u001b[33m\"\u001b[39m\u001b[33mFY25 Q4\u001b[39m\u001b[33m\"\u001b[39m].shape)\n\u001b[32m      4\u001b[39m \u001b[38;5;66;03m# After dropping\u001b[39;00m\n\u001b[32m      5\u001b[39m \u001b[38;5;28mprint\u001b[39m(\u001b[33m\"\u001b[39m\u001b[33mAfter dropping:\u001b[39m\u001b[33m\"\u001b[39m, df_corr[df_corr[\u001b[33m\"\u001b[39m\u001b[33mQuarter\u001b[39m\u001b[33m\"\u001b[39m] == \u001b[33m\"\u001b[39m\u001b[33mFY25 Q4\u001b[39m\u001b[33m\"\u001b[39m].shape)\n",
      "\u001b[31mNameError\u001b[39m: name 'df_pivot' is not defined"
     ]
    }
   ],
   "source": [
    "# Before dropping\n",
    "print(\"Before dropping:\", df_pivot[df_pivot[\"Quarter\"] == \"FY25 Q4\"].shape)\n",
    "\n",
    "# After dropping\n",
    "print(\"After dropping:\", df_corr[df_corr[\"Quarter\"] == \"FY25 Q4\"].shape)\n"
   ]
  },
  {
   "cell_type": "code",
   "execution_count": 47,
   "id": "53d08e54",
   "metadata": {},
   "outputs": [
    {
     "name": "stdout",
     "output_type": "stream",
     "text": [
      "✅ SARIMA Predictions shape: (7200, 10)\n"
     ]
    },
    {
     "data": {
      "text/html": [
       "<div>\n",
       "<style scoped>\n",
       "    .dataframe tbody tr th:only-of-type {\n",
       "        vertical-align: middle;\n",
       "    }\n",
       "\n",
       "    .dataframe tbody tr th {\n",
       "        vertical-align: top;\n",
       "    }\n",
       "\n",
       "    .dataframe thead th {\n",
       "        text-align: right;\n",
       "    }\n",
       "</style>\n",
       "<table border=\"1\" class=\"dataframe\">\n",
       "  <thead>\n",
       "    <tr style=\"text-align: right;\">\n",
       "      <th></th>\n",
       "      <th>Model</th>\n",
       "      <th>MEP</th>\n",
       "      <th>KPI</th>\n",
       "      <th>Quarter</th>\n",
       "      <th>Actual</th>\n",
       "      <th>Predicted</th>\n",
       "      <th>MAE</th>\n",
       "      <th>WMAPE</th>\n",
       "      <th>RMSE</th>\n",
       "      <th>R2</th>\n",
       "    </tr>\n",
       "  </thead>\n",
       "  <tbody>\n",
       "    <tr>\n",
       "      <th>0</th>\n",
       "      <td>SARIMA</td>\n",
       "      <td>GSS Bangalore, IND_1</td>\n",
       "      <td>Direct Labor Cost</td>\n",
       "      <td>FY25 Q1</td>\n",
       "      <td>7634796.05</td>\n",
       "      <td>1.040776e+07</td>\n",
       "      <td>3.871354e+06</td>\n",
       "      <td>0.536472</td>\n",
       "      <td>4.423088e+06</td>\n",
       "      <td>-0.647001</td>\n",
       "    </tr>\n",
       "    <tr>\n",
       "      <th>1</th>\n",
       "      <td>SARIMA</td>\n",
       "      <td>GSS Bangalore, IND_1</td>\n",
       "      <td>Direct Labor Cost</td>\n",
       "      <td>FY25 Q2</td>\n",
       "      <td>2801577.55</td>\n",
       "      <td>9.663364e+06</td>\n",
       "      <td>3.871354e+06</td>\n",
       "      <td>0.536472</td>\n",
       "      <td>4.423088e+06</td>\n",
       "      <td>-0.647001</td>\n",
       "    </tr>\n",
       "    <tr>\n",
       "      <th>2</th>\n",
       "      <td>SARIMA</td>\n",
       "      <td>GSS Bangalore, IND_1</td>\n",
       "      <td>Direct Labor Cost</td>\n",
       "      <td>FY25 Q3</td>\n",
       "      <td>11212577.54</td>\n",
       "      <td>9.233266e+06</td>\n",
       "      <td>3.871354e+06</td>\n",
       "      <td>0.536472</td>\n",
       "      <td>4.423088e+06</td>\n",
       "      <td>-0.647001</td>\n",
       "    </tr>\n",
       "    <tr>\n",
       "      <th>3</th>\n",
       "      <td>SARIMA</td>\n",
       "      <td>GSS Bangalore, IND_1</td>\n",
       "      <td>Direct Labor Cost</td>\n",
       "      <td>FY25 Q4</td>\n",
       "      <td>NaN</td>\n",
       "      <td>8.984765e+06</td>\n",
       "      <td>NaN</td>\n",
       "      <td>NaN</td>\n",
       "      <td>NaN</td>\n",
       "      <td>NaN</td>\n",
       "    </tr>\n",
       "    <tr>\n",
       "      <th>4</th>\n",
       "      <td>SARIMA</td>\n",
       "      <td>GSS Bangalore, IND_1</td>\n",
       "      <td>IDL/Salaries and Wages</td>\n",
       "      <td>FY25 Q1</td>\n",
       "      <td>1804557.13</td>\n",
       "      <td>2.659417e+06</td>\n",
       "      <td>2.884621e+06</td>\n",
       "      <td>0.634903</td>\n",
       "      <td>4.402107e+06</td>\n",
       "      <td>-0.305130</td>\n",
       "    </tr>\n",
       "  </tbody>\n",
       "</table>\n",
       "</div>"
      ],
      "text/plain": [
       "    Model                   MEP                     KPI  Quarter       Actual  \\\n",
       "0  SARIMA  GSS Bangalore, IND_1       Direct Labor Cost  FY25 Q1   7634796.05   \n",
       "1  SARIMA  GSS Bangalore, IND_1       Direct Labor Cost  FY25 Q2   2801577.55   \n",
       "2  SARIMA  GSS Bangalore, IND_1       Direct Labor Cost  FY25 Q3  11212577.54   \n",
       "3  SARIMA  GSS Bangalore, IND_1       Direct Labor Cost  FY25 Q4          NaN   \n",
       "4  SARIMA  GSS Bangalore, IND_1  IDL/Salaries and Wages  FY25 Q1   1804557.13   \n",
       "\n",
       "      Predicted           MAE     WMAPE          RMSE        R2  \n",
       "0  1.040776e+07  3.871354e+06  0.536472  4.423088e+06 -0.647001  \n",
       "1  9.663364e+06  3.871354e+06  0.536472  4.423088e+06 -0.647001  \n",
       "2  9.233266e+06  3.871354e+06  0.536472  4.423088e+06 -0.647001  \n",
       "3  8.984765e+06           NaN       NaN           NaN       NaN  \n",
       "4  2.659417e+06  2.884621e+06  0.634903  4.402107e+06 -0.305130  "
      ]
     },
     "execution_count": 47,
     "metadata": {},
     "output_type": "execute_result"
    }
   ],
   "source": [
    "# Notebook Cell 5\n",
    "\n",
    "sarima_results = predict_sarima(df_sarima, sarima_models)\n",
    "\n",
    "print(\"✅ SARIMA Predictions shape:\", sarima_results.shape)\n",
    "sarima_results.head()\n"
   ]
  },
  {
   "cell_type": "code",
   "execution_count": 45,
   "id": "4c265968",
   "metadata": {},
   "outputs": [
    {
     "name": "stdout",
     "output_type": "stream",
     "text": [
      "✅ Correlation models trained: 1620 (KPI) models.\n"
     ]
    }
   ],
   "source": [
    "# Notebook Cell 6\n",
    "\n",
    "corr_models = train_correlation_model(df_corr)\n",
    "print(f\"✅ Correlation models trained: {len(corr_models)} (KPI) models.\")\n"
   ]
  },
  {
   "cell_type": "code",
   "execution_count": 48,
   "id": "71e6196f",
   "metadata": {},
   "outputs": [
    {
     "name": "stdout",
     "output_type": "stream",
     "text": [
      "✅ Correlation Predictions shape: (6480, 10)\n"
     ]
    },
    {
     "data": {
      "text/html": [
       "<div>\n",
       "<style scoped>\n",
       "    .dataframe tbody tr th:only-of-type {\n",
       "        vertical-align: middle;\n",
       "    }\n",
       "\n",
       "    .dataframe tbody tr th {\n",
       "        vertical-align: top;\n",
       "    }\n",
       "\n",
       "    .dataframe thead th {\n",
       "        text-align: right;\n",
       "    }\n",
       "</style>\n",
       "<table border=\"1\" class=\"dataframe\">\n",
       "  <thead>\n",
       "    <tr style=\"text-align: right;\">\n",
       "      <th></th>\n",
       "      <th>Model</th>\n",
       "      <th>MEP</th>\n",
       "      <th>KPI</th>\n",
       "      <th>Quarter</th>\n",
       "      <th>Actual</th>\n",
       "      <th>Predicted</th>\n",
       "      <th>MAE</th>\n",
       "      <th>WMAPE</th>\n",
       "      <th>RMSE</th>\n",
       "      <th>R2</th>\n",
       "    </tr>\n",
       "  </thead>\n",
       "  <tbody>\n",
       "    <tr>\n",
       "      <th>0</th>\n",
       "      <td>Correlation</td>\n",
       "      <td>GSS Bangalore, IND_1</td>\n",
       "      <td>Direct Labor Cost</td>\n",
       "      <td>FY25 Q1</td>\n",
       "      <td>7634796.05</td>\n",
       "      <td>1.002302e+07</td>\n",
       "      <td>3.790866e+06</td>\n",
       "      <td>0.525319</td>\n",
       "      <td>4.640797e+06</td>\n",
       "      <td>-0.813125</td>\n",
       "    </tr>\n",
       "    <tr>\n",
       "      <th>1</th>\n",
       "      <td>Correlation</td>\n",
       "      <td>GSS Bangalore, IND_1</td>\n",
       "      <td>Direct Labor Cost</td>\n",
       "      <td>FY25 Q2</td>\n",
       "      <td>2801577.55</td>\n",
       "      <td>1.033908e+07</td>\n",
       "      <td>3.790866e+06</td>\n",
       "      <td>0.525319</td>\n",
       "      <td>4.640797e+06</td>\n",
       "      <td>-0.813125</td>\n",
       "    </tr>\n",
       "    <tr>\n",
       "      <th>2</th>\n",
       "      <td>Correlation</td>\n",
       "      <td>GSS Bangalore, IND_1</td>\n",
       "      <td>Direct Labor Cost</td>\n",
       "      <td>FY25 Q3</td>\n",
       "      <td>11212577.54</td>\n",
       "      <td>9.765708e+06</td>\n",
       "      <td>3.790866e+06</td>\n",
       "      <td>0.525319</td>\n",
       "      <td>4.640797e+06</td>\n",
       "      <td>-0.813125</td>\n",
       "    </tr>\n",
       "    <tr>\n",
       "      <th>3</th>\n",
       "      <td>Correlation</td>\n",
       "      <td>GSS Bangalore, IND_1</td>\n",
       "      <td>Direct Labor Cost</td>\n",
       "      <td>FY25 Q4</td>\n",
       "      <td>NaN</td>\n",
       "      <td>9.343017e+06</td>\n",
       "      <td>NaN</td>\n",
       "      <td>NaN</td>\n",
       "      <td>NaN</td>\n",
       "      <td>NaN</td>\n",
       "    </tr>\n",
       "    <tr>\n",
       "      <th>4</th>\n",
       "      <td>Correlation</td>\n",
       "      <td>GSS Bangalore, IND_10</td>\n",
       "      <td>Direct Labor Cost</td>\n",
       "      <td>FY25 Q1</td>\n",
       "      <td>10927069.11</td>\n",
       "      <td>1.150706e+07</td>\n",
       "      <td>3.110823e+06</td>\n",
       "      <td>0.445675</td>\n",
       "      <td>3.922610e+06</td>\n",
       "      <td>-0.221779</td>\n",
       "    </tr>\n",
       "  </tbody>\n",
       "</table>\n",
       "</div>"
      ],
      "text/plain": [
       "         Model                    MEP                KPI  Quarter  \\\n",
       "0  Correlation   GSS Bangalore, IND_1  Direct Labor Cost  FY25 Q1   \n",
       "1  Correlation   GSS Bangalore, IND_1  Direct Labor Cost  FY25 Q2   \n",
       "2  Correlation   GSS Bangalore, IND_1  Direct Labor Cost  FY25 Q3   \n",
       "3  Correlation   GSS Bangalore, IND_1  Direct Labor Cost  FY25 Q4   \n",
       "4  Correlation  GSS Bangalore, IND_10  Direct Labor Cost  FY25 Q1   \n",
       "\n",
       "        Actual     Predicted           MAE     WMAPE          RMSE        R2  \n",
       "0   7634796.05  1.002302e+07  3.790866e+06  0.525319  4.640797e+06 -0.813125  \n",
       "1   2801577.55  1.033908e+07  3.790866e+06  0.525319  4.640797e+06 -0.813125  \n",
       "2  11212577.54  9.765708e+06  3.790866e+06  0.525319  4.640797e+06 -0.813125  \n",
       "3          NaN  9.343017e+06           NaN       NaN           NaN       NaN  \n",
       "4  10927069.11  1.150706e+07  3.110823e+06  0.445675  3.922610e+06 -0.221779  "
      ]
     },
     "execution_count": 48,
     "metadata": {},
     "output_type": "execute_result"
    }
   ],
   "source": [
    "# Notebook Cell 7\n",
    "\n",
    "corr_results = predict_correlation(df_corr, corr_models)\n",
    "\n",
    "print(\"✅ Correlation Predictions shape:\", corr_results.shape)\n",
    "corr_results.head()\n"
   ]
  }
 ],
 "metadata": {
  "kernelspec": {
   "display_name": "myenv",
   "language": "python",
   "name": "python3"
  },
  "language_info": {
   "codemirror_mode": {
    "name": "ipython",
    "version": 3
   },
   "file_extension": ".py",
   "mimetype": "text/x-python",
   "name": "python",
   "nbconvert_exporter": "python",
   "pygments_lexer": "ipython3",
   "version": "3.13.5"
  }
 },
 "nbformat": 4,
 "nbformat_minor": 5
}
